{
 "cells": [
  {
   "cell_type": "code",
   "execution_count": 33,
   "metadata": {
    "collapsed": true
   },
   "outputs": [],
   "source": [
    "class gebiz():\n",
    "    def _init_(self,company,url,amount):\n",
    "        self.company=company\n",
    "        self.url=url\n",
    "        self.amount=amount\n",
    "        \n",
    "    def ginput(self):\n",
    "        company=input('company name\\n')\n",
    "        url=input('url\\n')\n",
    "        amount=input('amount?\\n')\n",
    "        return company,url,amount\n",
    "    \n",
    "    def main(self):\n",
    "        company,url,amount=self.ginput()\n",
    "        print(company+\"\\n\"+url+\"\\n\"+amount+\"SGD\\n\")\n",
    "        return\n",
    "\n",
    "        "
   ]
  },
  {
   "cell_type": "code",
   "execution_count": 36,
   "metadata": {},
   "outputs": [],
   "source": [
    "p=gebiz()"
   ]
  },
  {
   "cell_type": "code",
   "execution_count": 37,
   "metadata": {},
   "outputs": [
    {
     "name": "stdout",
     "output_type": "stream",
     "text": [
      "company name\n",
      "acra\n",
      "url\n",
      "www.a.com\n",
      "amount?\n",
      "1000\n",
      "acra\n",
      "www.a.com\n",
      "1000SGD\n",
      "\n"
     ]
    }
   ],
   "source": [
    "p.main()"
   ]
  },
  {
   "cell_type": "code",
   "execution_count": null,
   "metadata": {
    "collapsed": true
   },
   "outputs": [],
   "source": []
  }
 ],
 "metadata": {
  "kernelspec": {
   "display_name": "Python 3",
   "language": "python",
   "name": "python3"
  },
  "language_info": {
   "codemirror_mode": {
    "name": "ipython",
    "version": 3
   },
   "file_extension": ".py",
   "mimetype": "text/x-python",
   "name": "python",
   "nbconvert_exporter": "python",
   "pygments_lexer": "ipython3",
   "version": "3.7.4"
  }
 },
 "nbformat": 4,
 "nbformat_minor": 2
}
